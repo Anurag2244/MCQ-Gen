{
 "cells": [
  {
   "cell_type": "code",
   "execution_count": 1,
   "id": "32a47984",
   "metadata": {},
   "outputs": [
    {
     "name": "stdout",
     "output_type": "stream",
     "text": [
      "Collecting langchain_community\n",
      "  Using cached langchain_community-0.3.21-py3-none-any.whl.metadata (2.4 kB)\n",
      "Requirement already satisfied: langchain-core<1.0.0,>=0.3.51 in c:\\users\\anura\\onedrive\\desktop\\gen ai project\\mcq gen\\myenviron\\lib\\site-packages (from langchain_community) (0.3.52)\n",
      "Requirement already satisfied: langchain<1.0.0,>=0.3.23 in c:\\users\\anura\\onedrive\\desktop\\gen ai project\\mcq gen\\myenviron\\lib\\site-packages (from langchain_community) (0.3.23)\n",
      "Requirement already satisfied: SQLAlchemy<3,>=1.4 in c:\\users\\anura\\onedrive\\desktop\\gen ai project\\mcq gen\\myenviron\\lib\\site-packages (from langchain_community) (2.0.40)\n",
      "Requirement already satisfied: requests<3,>=2 in c:\\users\\anura\\onedrive\\desktop\\gen ai project\\mcq gen\\myenviron\\lib\\site-packages (from langchain_community) (2.32.3)\n",
      "Requirement already satisfied: PyYAML>=5.3 in c:\\users\\anura\\onedrive\\desktop\\gen ai project\\mcq gen\\myenviron\\lib\\site-packages (from langchain_community) (6.0.2)\n",
      "Collecting aiohttp<4.0.0,>=3.8.3 (from langchain_community)\n",
      "  Using cached aiohttp-3.11.16-cp312-cp312-win_amd64.whl.metadata (8.0 kB)\n",
      "Requirement already satisfied: tenacity!=8.4.0,<10,>=8.1.0 in c:\\users\\anura\\onedrive\\desktop\\gen ai project\\mcq gen\\myenviron\\lib\\site-packages (from langchain_community) (9.1.2)\n",
      "Collecting dataclasses-json<0.7,>=0.5.7 (from langchain_community)\n",
      "  Using cached dataclasses_json-0.6.7-py3-none-any.whl.metadata (25 kB)\n",
      "Collecting pydantic-settings<3.0.0,>=2.4.0 (from langchain_community)\n",
      "  Using cached pydantic_settings-2.9.0-py3-none-any.whl.metadata (3.8 kB)\n",
      "Requirement already satisfied: langsmith<0.4,>=0.1.125 in c:\\users\\anura\\onedrive\\desktop\\gen ai project\\mcq gen\\myenviron\\lib\\site-packages (from langchain_community) (0.3.31)\n",
      "Collecting httpx-sse<1.0.0,>=0.4.0 (from langchain_community)\n",
      "  Using cached httpx_sse-0.4.0-py3-none-any.whl.metadata (9.0 kB)\n",
      "Requirement already satisfied: numpy<3,>=1.26.2 in c:\\users\\anura\\onedrive\\desktop\\gen ai project\\mcq gen\\myenviron\\lib\\site-packages (from langchain_community) (2.2.4)\n",
      "Collecting aiohappyeyeballs>=2.3.0 (from aiohttp<4.0.0,>=3.8.3->langchain_community)\n",
      "  Using cached aiohappyeyeballs-2.6.1-py3-none-any.whl.metadata (5.9 kB)\n",
      "Collecting aiosignal>=1.1.2 (from aiohttp<4.0.0,>=3.8.3->langchain_community)\n",
      "  Using cached aiosignal-1.3.2-py2.py3-none-any.whl.metadata (3.8 kB)\n",
      "Requirement already satisfied: attrs>=17.3.0 in c:\\users\\anura\\onedrive\\desktop\\gen ai project\\mcq gen\\myenviron\\lib\\site-packages (from aiohttp<4.0.0,>=3.8.3->langchain_community) (25.3.0)\n",
      "Collecting frozenlist>=1.1.1 (from aiohttp<4.0.0,>=3.8.3->langchain_community)\n",
      "  Using cached frozenlist-1.6.0-cp312-cp312-win_amd64.whl.metadata (16 kB)\n",
      "Collecting multidict<7.0,>=4.5 (from aiohttp<4.0.0,>=3.8.3->langchain_community)\n",
      "  Using cached multidict-6.4.3-cp312-cp312-win_amd64.whl.metadata (5.5 kB)\n",
      "Collecting propcache>=0.2.0 (from aiohttp<4.0.0,>=3.8.3->langchain_community)\n",
      "  Using cached propcache-0.3.1-cp312-cp312-win_amd64.whl.metadata (11 kB)\n",
      "Collecting yarl<2.0,>=1.17.0 (from aiohttp<4.0.0,>=3.8.3->langchain_community)\n",
      "  Using cached yarl-1.20.0-cp312-cp312-win_amd64.whl.metadata (74 kB)\n",
      "Collecting marshmallow<4.0.0,>=3.18.0 (from dataclasses-json<0.7,>=0.5.7->langchain_community)\n",
      "  Using cached marshmallow-3.26.1-py3-none-any.whl.metadata (7.3 kB)\n",
      "Collecting typing-inspect<1,>=0.4.0 (from dataclasses-json<0.7,>=0.5.7->langchain_community)\n",
      "  Using cached typing_inspect-0.9.0-py3-none-any.whl.metadata (1.5 kB)\n",
      "Requirement already satisfied: langchain-text-splitters<1.0.0,>=0.3.8 in c:\\users\\anura\\onedrive\\desktop\\gen ai project\\mcq gen\\myenviron\\lib\\site-packages (from langchain<1.0.0,>=0.3.23->langchain_community) (0.3.8)\n",
      "Requirement already satisfied: pydantic<3.0.0,>=2.7.4 in c:\\users\\anura\\onedrive\\desktop\\gen ai project\\mcq gen\\myenviron\\lib\\site-packages (from langchain<1.0.0,>=0.3.23->langchain_community) (2.11.3)\n",
      "Requirement already satisfied: jsonpatch<2.0,>=1.33 in c:\\users\\anura\\onedrive\\desktop\\gen ai project\\mcq gen\\myenviron\\lib\\site-packages (from langchain-core<1.0.0,>=0.3.51->langchain_community) (1.33)\n",
      "Requirement already satisfied: packaging<25,>=23.2 in c:\\users\\anura\\onedrive\\desktop\\gen ai project\\mcq gen\\myenviron\\lib\\site-packages (from langchain-core<1.0.0,>=0.3.51->langchain_community) (24.2)\n",
      "Requirement already satisfied: typing-extensions>=4.7 in c:\\users\\anura\\onedrive\\desktop\\gen ai project\\mcq gen\\myenviron\\lib\\site-packages (from langchain-core<1.0.0,>=0.3.51->langchain_community) (4.13.2)\n",
      "Requirement already satisfied: httpx<1,>=0.23.0 in c:\\users\\anura\\onedrive\\desktop\\gen ai project\\mcq gen\\myenviron\\lib\\site-packages (from langsmith<0.4,>=0.1.125->langchain_community) (0.28.1)\n",
      "Requirement already satisfied: orjson<4.0.0,>=3.9.14 in c:\\users\\anura\\onedrive\\desktop\\gen ai project\\mcq gen\\myenviron\\lib\\site-packages (from langsmith<0.4,>=0.1.125->langchain_community) (3.10.16)\n",
      "Requirement already satisfied: requests-toolbelt<2.0.0,>=1.0.0 in c:\\users\\anura\\onedrive\\desktop\\gen ai project\\mcq gen\\myenviron\\lib\\site-packages (from langsmith<0.4,>=0.1.125->langchain_community) (1.0.0)\n",
      "Requirement already satisfied: zstandard<0.24.0,>=0.23.0 in c:\\users\\anura\\onedrive\\desktop\\gen ai project\\mcq gen\\myenviron\\lib\\site-packages (from langsmith<0.4,>=0.1.125->langchain_community) (0.23.0)\n",
      "Requirement already satisfied: python-dotenv>=0.21.0 in c:\\users\\anura\\onedrive\\desktop\\gen ai project\\mcq gen\\myenviron\\lib\\site-packages (from pydantic-settings<3.0.0,>=2.4.0->langchain_community) (1.1.0)\n",
      "Requirement already satisfied: typing-inspection>=0.4.0 in c:\\users\\anura\\onedrive\\desktop\\gen ai project\\mcq gen\\myenviron\\lib\\site-packages (from pydantic-settings<3.0.0,>=2.4.0->langchain_community) (0.4.0)\n",
      "Requirement already satisfied: charset-normalizer<4,>=2 in c:\\users\\anura\\onedrive\\desktop\\gen ai project\\mcq gen\\myenviron\\lib\\site-packages (from requests<3,>=2->langchain_community) (3.4.1)\n",
      "Requirement already satisfied: idna<4,>=2.5 in c:\\users\\anura\\onedrive\\desktop\\gen ai project\\mcq gen\\myenviron\\lib\\site-packages (from requests<3,>=2->langchain_community) (3.10)\n",
      "Requirement already satisfied: urllib3<3,>=1.21.1 in c:\\users\\anura\\onedrive\\desktop\\gen ai project\\mcq gen\\myenviron\\lib\\site-packages (from requests<3,>=2->langchain_community) (2.4.0)\n",
      "Requirement already satisfied: certifi>=2017.4.17 in c:\\users\\anura\\onedrive\\desktop\\gen ai project\\mcq gen\\myenviron\\lib\\site-packages (from requests<3,>=2->langchain_community) (2025.1.31)\n",
      "Requirement already satisfied: greenlet>=1 in c:\\users\\anura\\onedrive\\desktop\\gen ai project\\mcq gen\\myenviron\\lib\\site-packages (from SQLAlchemy<3,>=1.4->langchain_community) (3.2.0)\n",
      "Requirement already satisfied: anyio in c:\\users\\anura\\onedrive\\desktop\\gen ai project\\mcq gen\\myenviron\\lib\\site-packages (from httpx<1,>=0.23.0->langsmith<0.4,>=0.1.125->langchain_community) (4.9.0)\n",
      "Requirement already satisfied: httpcore==1.* in c:\\users\\anura\\onedrive\\desktop\\gen ai project\\mcq gen\\myenviron\\lib\\site-packages (from httpx<1,>=0.23.0->langsmith<0.4,>=0.1.125->langchain_community) (1.0.8)\n",
      "Requirement already satisfied: h11<0.15,>=0.13 in c:\\users\\anura\\onedrive\\desktop\\gen ai project\\mcq gen\\myenviron\\lib\\site-packages (from httpcore==1.*->httpx<1,>=0.23.0->langsmith<0.4,>=0.1.125->langchain_community) (0.14.0)\n",
      "Requirement already satisfied: jsonpointer>=1.9 in c:\\users\\anura\\onedrive\\desktop\\gen ai project\\mcq gen\\myenviron\\lib\\site-packages (from jsonpatch<2.0,>=1.33->langchain-core<1.0.0,>=0.3.51->langchain_community) (3.0.0)\n",
      "Requirement already satisfied: annotated-types>=0.6.0 in c:\\users\\anura\\onedrive\\desktop\\gen ai project\\mcq gen\\myenviron\\lib\\site-packages (from pydantic<3.0.0,>=2.7.4->langchain<1.0.0,>=0.3.23->langchain_community) (0.7.0)\n",
      "Requirement already satisfied: pydantic-core==2.33.1 in c:\\users\\anura\\onedrive\\desktop\\gen ai project\\mcq gen\\myenviron\\lib\\site-packages (from pydantic<3.0.0,>=2.7.4->langchain<1.0.0,>=0.3.23->langchain_community) (2.33.1)\n",
      "Collecting mypy-extensions>=0.3.0 (from typing-inspect<1,>=0.4.0->dataclasses-json<0.7,>=0.5.7->langchain_community)\n",
      "  Using cached mypy_extensions-1.0.0-py3-none-any.whl.metadata (1.1 kB)\n",
      "Requirement already satisfied: sniffio>=1.1 in c:\\users\\anura\\onedrive\\desktop\\gen ai project\\mcq gen\\myenviron\\lib\\site-packages (from anyio->httpx<1,>=0.23.0->langsmith<0.4,>=0.1.125->langchain_community) (1.3.1)\n",
      "Using cached langchain_community-0.3.21-py3-none-any.whl (2.5 MB)\n",
      "Using cached aiohttp-3.11.16-cp312-cp312-win_amd64.whl (438 kB)\n",
      "Using cached dataclasses_json-0.6.7-py3-none-any.whl (28 kB)\n",
      "Using cached httpx_sse-0.4.0-py3-none-any.whl (7.8 kB)\n",
      "Using cached pydantic_settings-2.9.0-py3-none-any.whl (44 kB)\n",
      "Using cached aiohappyeyeballs-2.6.1-py3-none-any.whl (15 kB)\n",
      "Using cached aiosignal-1.3.2-py2.py3-none-any.whl (7.6 kB)\n",
      "Using cached frozenlist-1.6.0-cp312-cp312-win_amd64.whl (120 kB)\n",
      "Using cached marshmallow-3.26.1-py3-none-any.whl (50 kB)\n",
      "Using cached multidict-6.4.3-cp312-cp312-win_amd64.whl (38 kB)\n",
      "Using cached propcache-0.3.1-cp312-cp312-win_amd64.whl (44 kB)\n",
      "Using cached typing_inspect-0.9.0-py3-none-any.whl (8.8 kB)\n",
      "Using cached yarl-1.20.0-cp312-cp312-win_amd64.whl (92 kB)\n",
      "Using cached mypy_extensions-1.0.0-py3-none-any.whl (4.7 kB)\n",
      "Installing collected packages: propcache, mypy-extensions, multidict, marshmallow, httpx-sse, frozenlist, aiohappyeyeballs, yarl, typing-inspect, aiosignal, pydantic-settings, dataclasses-json, aiohttp, langchain_community\n",
      "Successfully installed aiohappyeyeballs-2.6.1 aiohttp-3.11.16 aiosignal-1.3.2 dataclasses-json-0.6.7 frozenlist-1.6.0 httpx-sse-0.4.0 langchain_community-0.3.21 marshmallow-3.26.1 multidict-6.4.3 mypy-extensions-1.0.0 propcache-0.3.1 pydantic-settings-2.9.0 typing-inspect-0.9.0 yarl-1.20.0\n",
      "Note: you may need to restart the kernel to use updated packages.\n"
     ]
    },
    {
     "name": "stderr",
     "output_type": "stream",
     "text": [
      "The value specified in an AutoRun registry key could not be parsed.\n",
      "\n",
      "[notice] A new release of pip is available: 24.0 -> 25.0.1\n",
      "[notice] To update, run: python.exe -m pip install --upgrade pip\n"
     ]
    }
   ],
   "source": [
    "pip install langchain_community"
   ]
  },
  {
   "cell_type": "code",
   "execution_count": 2,
   "id": "9d9420be",
   "metadata": {},
   "outputs": [
    {
     "name": "stdout",
     "output_type": "stream",
     "text": [
      "Name: langchain-community\n",
      "Version: 0.3.21\n",
      "Summary: Community contributed LangChain integrations.\n",
      "Home-page: \n",
      "Author: \n",
      "Author-email: \n",
      "License: MIT\n",
      "Location: c:\\Users\\anura\\OneDrive\\Desktop\\Gen AI project\\MCQ Gen\\myenviron\\Lib\\site-packages\n",
      "Requires: aiohttp, dataclasses-json, httpx-sse, langchain, langchain-core, langsmith, numpy, pydantic-settings, PyYAML, requests, SQLAlchemy, tenacity\n",
      "Required-by: \n",
      "Note: you may need to restart the kernel to use updated packages.\n"
     ]
    },
    {
     "name": "stderr",
     "output_type": "stream",
     "text": [
      "The value specified in an AutoRun registry key could not be parsed.\n"
     ]
    }
   ],
   "source": [
    "pip show langchain_community"
   ]
  },
  {
   "cell_type": "code",
   "execution_count": 3,
   "id": "e73aa355",
   "metadata": {},
   "outputs": [],
   "source": [
    "import os\n",
    "import json\n",
    "import pandas as pd\n",
    "import traceback"
   ]
  },
  {
   "cell_type": "code",
   "execution_count": 4,
   "id": "1ebdb8ed",
   "metadata": {},
   "outputs": [],
   "source": [
    "from langchain.chat_models import ChatOpenAI"
   ]
  },
  {
   "cell_type": "code",
   "execution_count": 5,
   "id": "187779d8",
   "metadata": {},
   "outputs": [
    {
     "data": {
      "text/plain": [
       "True"
      ]
     },
     "execution_count": 5,
     "metadata": {},
     "output_type": "execute_result"
    }
   ],
   "source": [
    "from dotenv import load_dotenv\n",
    "load_dotenv()"
   ]
  },
  {
   "cell_type": "code",
   "execution_count": 6,
   "id": "19384d94",
   "metadata": {},
   "outputs": [],
   "source": [
    "KEY=os.getenv(\"OPEN_API_KEY\")"
   ]
  },
  {
   "cell_type": "code",
   "execution_count": 9,
   "id": "3973577c",
   "metadata": {},
   "outputs": [],
   "source": [
    "llm = ChatOpenAI(openai_api_key=KEY, model_name='gpt-4o-mini', temperature=0.5)"
   ]
  },
  {
   "cell_type": "code",
   "execution_count": 10,
   "id": "c6cdd26e",
   "metadata": {},
   "outputs": [],
   "source": [
    "from langchain.llms import OpenAI\n",
    "from langchain.prompts import PromptTemplate\n",
    "from langchain.chains import SequentialChain\n",
    "from langchain.chains import LLMChain\n",
    "from langchain.callbacks import get_openai_callback\n",
    "import PyPDF2"
   ]
  },
  {
   "cell_type": "code",
   "execution_count": 47,
   "id": "5bb47310",
   "metadata": {},
   "outputs": [],
   "source": [
    "RESPONSE_JSON = {\n",
    "    \"1\": {\n",
    "        \"mcq\": \"multiple choice question\",\n",
    "        \"options\": {\n",
    "            \"a\": \"choice here\",\n",
    "            \"b\": \"choice here\",\n",
    "            \"c\": \"choice here\",\n",
    "            \"d\": \"choice here\"\n",
    "        },\n",
    "        \"answer\": \"correct answer\"\n",
    "    },\n",
    "    \"2\": {\n",
    "        \"mcq\": \"multiple choice question\",\n",
    "        \"options\": {\n",
    "            \"a\": \"choice here\",\n",
    "            \"b\": \"choice here\",\n",
    "            \"c\": \"choice here\",\n",
    "            \"d\": \"choice here\"\n",
    "        },\n",
    "        \"answer\": \"correct answer\"\n",
    "    },\n",
    "    \"3\": {\n",
    "        \"mcq\": \"multiple choice question\",\n",
    "        \"options\": {\n",
    "            \"a\": \"choice here\",\n",
    "            \"b\": \"choice here\",\n",
    "            \"c\": \"choice here\",\n",
    "            \"d\": \"choice here\"\n",
    "        },\n",
    "        \"answer\": \"correct answer\"\n",
    "    },\n",
    "    \"4\": {\n",
    "        \"mcq\": \"multiple choice question\",\n",
    "        \"options\": {\n",
    "            \"a\": \"choice here\",\n",
    "            \"b\": \"choice here\",\n",
    "            \"c\": \"choice here\",\n",
    "            \"d\": \"choice here\"\n",
    "        },\n",
    "        \"answer\": \"correct answer\"\n",
    "    },\n",
    "    \"5\": {\n",
    "        \"mcq\": \"multiple choice question\",\n",
    "        \"options\": {\n",
    "            \"a\": \"choice here\",\n",
    "            \"b\": \"choice here\",\n",
    "            \"c\": \"choice here\",\n",
    "            \"d\": \"choice here\"\n",
    "        },\n",
    "        \"answer\": \"correct answer\"\n",
    "    }\n",
    "}"
   ]
  },
  {
   "cell_type": "code",
   "execution_count": 48,
   "id": "d8fb0cec",
   "metadata": {},
   "outputs": [],
   "source": [
    "TEMPLATE = \"\"\"\n",
    "Text:{text}\n",
    "You are a MCQ maker. Given above text, it is your job to create a quiz of {number} multiple choice questions on {subject} in {level} level.\n",
    "Make sure the questions are not repeated and check all questions to confirm the text as well.\n",
    "Make sure to format your response like RESPONSE_JSON below and use it as a guide.\n",
    "Ensure to make {number} MCQs\n",
    "### RESPONSE_JSON\n",
    "{response_json}\n",
    "\"\"\""
   ]
  },
  {
   "cell_type": "code",
   "execution_count": 49,
   "id": "bf94f354",
   "metadata": {},
   "outputs": [],
   "source": [
    "quiz_generation_prompt = PromptTemplate(\n",
    "    input_variables=['text', 'number', 'subject', 'tone', 'response_json'],\n",
    "    template=TEMPLATE\n",
    ")"
   ]
  },
  {
   "cell_type": "code",
   "execution_count": 50,
   "id": "297a4091",
   "metadata": {},
   "outputs": [],
   "source": [
    "quiz_chain = LLMChain(llm=llm, prompt=quiz_generation_prompt, output_key='quiz', verbose=True)"
   ]
  },
  {
   "cell_type": "code",
   "execution_count": 51,
   "id": "f756626b",
   "metadata": {},
   "outputs": [],
   "source": [
    "TEMPLATE_2=\"\"\"\n",
    "You are an english grammarian and writer. Given a multiple choice questions on {subject} students.\n",
    "You need to evaluate the complexity of the questions and give a complete analysis of the quiz. Only use at max 50 words for complexity analysis. \n",
    "if the quiz is not at per with the cognitive and analytical abilities of the students,\n",
    "update the quiz questions which needs to be changed and change the tone such that it perfectly fits the student abilities\n",
    "Quiz_MCQs:\n",
    "{quiz}\n",
    "\n",
    "Check as an expert English Writer for the above quiz:\n",
    "\"\"\""
   ]
  },
  {
   "cell_type": "code",
   "execution_count": 52,
   "id": "d0dd2d21",
   "metadata": {},
   "outputs": [],
   "source": [
    "quiz_evaluation_prompt=PromptTemplate(input_variables=[\"subject\", \"quiz\"], template=TEMPLATE_2)"
   ]
  },
  {
   "cell_type": "code",
   "execution_count": 53,
   "id": "667f4950",
   "metadata": {},
   "outputs": [],
   "source": [
    "review_chain = LLMChain(llm=llm, prompt=quiz_evaluation_prompt, output_key=\"review\", verbose=True)"
   ]
  },
  {
   "cell_type": "code",
   "execution_count": 54,
   "id": "ea5ced49",
   "metadata": {},
   "outputs": [],
   "source": [
    "generate_evaluate_chain=SequentialChain(chains=[quiz_chain, review_chain], input_variables=[\"text\", \"number\", \"subject\", \"level\", \"response_json\"],\n",
    "                                        output_variables=[\"quiz\", \"review\"], verbose=True)"
   ]
  },
  {
   "cell_type": "code",
   "execution_count": 55,
   "id": "0f35fdfc",
   "metadata": {},
   "outputs": [],
   "source": [
    "file_path=r\"C:\\Users\\anura\\OneDrive\\Desktop\\Gen AI project\\MCQ Gen\\data.txt\""
   ]
  },
  {
   "cell_type": "code",
   "execution_count": 56,
   "id": "db4a25bf",
   "metadata": {},
   "outputs": [
    {
     "data": {
      "text/plain": [
       "'C:\\\\Users\\\\anura\\\\OneDrive\\\\Desktop\\\\Gen AI project\\\\MCQ Gen\\\\data.txt'"
      ]
     },
     "execution_count": 56,
     "metadata": {},
     "output_type": "execute_result"
    }
   ],
   "source": [
    "file_path"
   ]
  },
  {
   "cell_type": "code",
   "execution_count": 57,
   "id": "537638a5",
   "metadata": {},
   "outputs": [],
   "source": [
    "with open(file_path, 'r') as file:\n",
    "    TEXT = file.read()"
   ]
  },
  {
   "cell_type": "code",
   "execution_count": 58,
   "id": "4d67a871",
   "metadata": {},
   "outputs": [
    {
     "name": "stdout",
     "output_type": "stream",
     "text": [
      "Generative artificial intelligence, or GenAI, uses sophisticated algorithms to organize large, complex data sets into meaningful clusters of information in order to create new content, including text, images and audio, in response to a query or prompt. GenAI typically does two things: First, it encodes a collection of existing information into a form (vector space) that maps data points based on the strength of their correlations (dependencies). Second, when prompted, it then generates (decodes) new content by finding the correct context within the existing dependencies in the vector space.\n",
      "\n",
      "Familiar to users through popular interfaces such as OpenAI's ChatGPT and Google's Gemini, generative AI can answer complex questions, summarize vast amounts of information, and automate many tasks done previously by humans. For example, businesses use generative AI to help draft reports, personalize marketing campaigns, make commercial films and improve code. Software vendors are integrating generative AI into core business applications, such as CRM and ERP, to boost efficiency and improve decision-making. GenAI is also being added to existing automation software, such as robotic process automation (RPA) and customer service chatbots, to make them more proactive. Under the hood, generative AI is being used to create synthetic data to train other AI and machine learning models.\n",
      "\n",
      "The strong interest in generative AI today from consumers, businesses and industry players alike was sparked by the blockbuster debut of ChatGPT in late 2022, which enabled users to create high-quality text in seconds and -- seemingly overnight -- became the fastest-growing consumer app in history. The underpinning of this breakthrough technology, it should be noted, was not brand-new, dating back to the 1960s when it was introduced in chatbots. It wasn't until 2014, however, with the introduction of generative adversarial networks (GANs) -- a type of machine learning algorithm -- that generative AI could create convincingly authentic images, videos and audio of real people.\n"
     ]
    }
   ],
   "source": [
    "print(TEXT)"
   ]
  },
  {
   "cell_type": "code",
   "execution_count": 59,
   "id": "13e85ece",
   "metadata": {},
   "outputs": [
    {
     "data": {
      "text/plain": [
       "'{\"1\": {\"mcq\": \"multiple choice question\", \"options\": {\"a\": \"choice here\", \"b\": \"choice here\", \"c\": \"choice here\", \"d\": \"choice here\"}, \"answer\": \"correct answer\"}, \"2\": {\"mcq\": \"multiple choice question\", \"options\": {\"a\": \"choice here\", \"b\": \"choice here\", \"c\": \"choice here\", \"d\": \"choice here\"}, \"answer\": \"correct answer\"}, \"3\": {\"mcq\": \"multiple choice question\", \"options\": {\"a\": \"choice here\", \"b\": \"choice here\", \"c\": \"choice here\", \"d\": \"choice here\"}, \"answer\": \"correct answer\"}, \"4\": {\"mcq\": \"multiple choice question\", \"options\": {\"a\": \"choice here\", \"b\": \"choice here\", \"c\": \"choice here\", \"d\": \"choice here\"}, \"answer\": \"correct answer\"}, \"5\": {\"mcq\": \"multiple choice question\", \"options\": {\"a\": \"choice here\", \"b\": \"choice here\", \"c\": \"choice here\", \"d\": \"choice here\"}, \"answer\": \"correct answer\"}}'"
      ]
     },
     "execution_count": 59,
     "metadata": {},
     "output_type": "execute_result"
    }
   ],
   "source": [
    "json.dumps(RESPONSE_JSON)"
   ]
  },
  {
   "cell_type": "code",
   "execution_count": 60,
   "id": "9ac78b10",
   "metadata": {},
   "outputs": [],
   "source": [
    "number=5\n",
    "subject=\"generative ai\"\n",
    "level=\"easy\""
   ]
  },
  {
   "cell_type": "code",
   "execution_count": 61,
   "id": "ded8ece5",
   "metadata": {},
   "outputs": [
    {
     "name": "stdout",
     "output_type": "stream",
     "text": [
      "\n",
      "\n",
      "\u001b[1m> Entering new SequentialChain chain...\u001b[0m\n",
      "\n",
      "\n",
      "\u001b[1m> Entering new LLMChain chain...\u001b[0m\n",
      "Prompt after formatting:\n",
      "\u001b[32;1m\u001b[1;3m\n",
      "Text:Generative artificial intelligence, or GenAI, uses sophisticated algorithms to organize large, complex data sets into meaningful clusters of information in order to create new content, including text, images and audio, in response to a query or prompt. GenAI typically does two things: First, it encodes a collection of existing information into a form (vector space) that maps data points based on the strength of their correlations (dependencies). Second, when prompted, it then generates (decodes) new content by finding the correct context within the existing dependencies in the vector space.\n",
      "\n",
      "Familiar to users through popular interfaces such as OpenAI's ChatGPT and Google's Gemini, generative AI can answer complex questions, summarize vast amounts of information, and automate many tasks done previously by humans. For example, businesses use generative AI to help draft reports, personalize marketing campaigns, make commercial films and improve code. Software vendors are integrating generative AI into core business applications, such as CRM and ERP, to boost efficiency and improve decision-making. GenAI is also being added to existing automation software, such as robotic process automation (RPA) and customer service chatbots, to make them more proactive. Under the hood, generative AI is being used to create synthetic data to train other AI and machine learning models.\n",
      "\n",
      "The strong interest in generative AI today from consumers, businesses and industry players alike was sparked by the blockbuster debut of ChatGPT in late 2022, which enabled users to create high-quality text in seconds and -- seemingly overnight -- became the fastest-growing consumer app in history. The underpinning of this breakthrough technology, it should be noted, was not brand-new, dating back to the 1960s when it was introduced in chatbots. It wasn't until 2014, however, with the introduction of generative adversarial networks (GANs) -- a type of machine learning algorithm -- that generative AI could create convincingly authentic images, videos and audio of real people.\n",
      "You are a MCQ maker. Given above text, it is your job to create a quiz of 5 multiple choice questions on generative ai in easy level.\n",
      "Make sure the questions are not repeated and check all questions to confirm the text as well.\n",
      "Make sure to format your response like RESPONSE_JSON below and use it as a guide.\n",
      "Ensure to make 5 MCQs\n",
      "### RESPONSE_JSON\n",
      "{\"1\": {\"mcq\": \"multiple choice question\", \"options\": {\"a\": \"choice here\", \"b\": \"choice here\", \"c\": \"choice here\", \"d\": \"choice here\"}, \"answer\": \"correct answer\"}, \"2\": {\"mcq\": \"multiple choice question\", \"options\": {\"a\": \"choice here\", \"b\": \"choice here\", \"c\": \"choice here\", \"d\": \"choice here\"}, \"answer\": \"correct answer\"}, \"3\": {\"mcq\": \"multiple choice question\", \"options\": {\"a\": \"choice here\", \"b\": \"choice here\", \"c\": \"choice here\", \"d\": \"choice here\"}, \"answer\": \"correct answer\"}, \"4\": {\"mcq\": \"multiple choice question\", \"options\": {\"a\": \"choice here\", \"b\": \"choice here\", \"c\": \"choice here\", \"d\": \"choice here\"}, \"answer\": \"correct answer\"}, \"5\": {\"mcq\": \"multiple choice question\", \"options\": {\"a\": \"choice here\", \"b\": \"choice here\", \"c\": \"choice here\", \"d\": \"choice here\"}, \"answer\": \"correct answer\"}}\n",
      "\u001b[0m\n",
      "\n",
      "\u001b[1m> Finished chain.\u001b[0m\n",
      "\n",
      "\n",
      "\u001b[1m> Entering new LLMChain chain...\u001b[0m\n",
      "Prompt after formatting:\n",
      "\u001b[32;1m\u001b[1;3m\n",
      "You are an english grammarian and writer. Given a multiple choice questions on generative ai students.\n",
      "You need to evaluate the complexity of the questions and give a complete analysis of the quiz. Only use at max 50 words for complexity analysis. \n",
      "if the quiz is not at per with the cognitive and analytical abilities of the students,\n",
      "update the quiz questions which needs to be changed and change the tone such that it perfectly fits the student abilities\n",
      "Quiz_MCQs:\n",
      "{\"1\": {\"mcq\": \"What does generative artificial intelligence (GenAI) primarily do?\", \"options\": {\"a\": \"Only create images\", \"b\": \"Organize data and create new content\", \"c\": \"Replace all human jobs\", \"d\": \"Only summarize information\"}, \"answer\": \"b\"}, \"2\": {\"mcq\": \"Which popular interface is known for using generative AI?\", \"options\": {\"a\": \"Microsoft Word\", \"b\": \"OpenAI's ChatGPT\", \"c\": \"Adobe Photoshop\", \"d\": \"Zoom\"}, \"answer\": \"b\"}, \"3\": {\"mcq\": \"What breakthrough technology contributed to the rise of generative AI?\", \"options\": {\"a\": \"Natural Language Processing\", \"b\": \"Generative Adversarial Networks (GANs)\", \"c\": \"Cloud Computing\", \"d\": \"Blockchain\"}, \"answer\": \"b\"}, \"4\": {\"mcq\": \"In what year did ChatGPT debut, sparking interest in generative AI?\", \"options\": {\"a\": \"2020\", \"b\": \"2021\", \"c\": \"2022\", \"d\": \"2023\"}, \"answer\": \"c\"}, \"5\": {\"mcq\": \"How are businesses utilizing generative AI?\", \"options\": {\"a\": \"Only for social media posts\", \"b\": \"To draft reports and personalize marketing\", \"c\": \"To eliminate all human interaction\", \"d\": \"For traditional advertising only\"}, \"answer\": \"b\"}}\n",
      "\n",
      "Check as an expert English Writer for the above quiz:\n",
      "\u001b[0m\n",
      "\n",
      "\u001b[1m> Finished chain.\u001b[0m\n",
      "\n",
      "\u001b[1m> Finished chain.\u001b[0m\n"
     ]
    }
   ],
   "source": [
    "with get_openai_callback() as cb:\n",
    "    response=generate_evaluate_chain(\n",
    "        {\n",
    "            \"text\": TEXT,\n",
    "            \"number\": number,\n",
    "            \"subject\": subject,\n",
    "            \"level\": level,\n",
    "            \"response_json\": json.dumps(RESPONSE_JSON)\n",
    "        }\n",
    "    )"
   ]
  },
  {
   "cell_type": "code",
   "execution_count": 62,
   "id": "ade7de44",
   "metadata": {},
   "outputs": [
    {
     "name": "stdout",
     "output_type": "stream",
     "text": [
      "Total Tokens:1863\n",
      "Prompt Tokens:1164\n",
      "Completion Tokens:699\n",
      "Total Cost: 0.0005939999999999999\n"
     ]
    }
   ],
   "source": [
    "print(f\"Total Tokens:{cb.total_tokens}\")\n",
    "print(f\"Prompt Tokens:{cb.prompt_tokens}\")\n",
    "print(f\"Completion Tokens:{cb.completion_tokens}\")\n",
    "print(f\"Total Cost: {cb.total_cost}\")"
   ]
  },
  {
   "cell_type": "code",
   "execution_count": 63,
   "id": "b8499fec",
   "metadata": {},
   "outputs": [
    {
     "data": {
      "text/plain": [
       "{'text': \"Generative artificial intelligence, or GenAI, uses sophisticated algorithms to organize large, complex data sets into meaningful clusters of information in order to create new content, including text, images and audio, in response to a query or prompt. GenAI typically does two things: First, it encodes a collection of existing information into a form (vector space) that maps data points based on the strength of their correlations (dependencies). Second, when prompted, it then generates (decodes) new content by finding the correct context within the existing dependencies in the vector space.\\n\\nFamiliar to users through popular interfaces such as OpenAI's ChatGPT and Google's Gemini, generative AI can answer complex questions, summarize vast amounts of information, and automate many tasks done previously by humans. For example, businesses use generative AI to help draft reports, personalize marketing campaigns, make commercial films and improve code. Software vendors are integrating generative AI into core business applications, such as CRM and ERP, to boost efficiency and improve decision-making. GenAI is also being added to existing automation software, such as robotic process automation (RPA) and customer service chatbots, to make them more proactive. Under the hood, generative AI is being used to create synthetic data to train other AI and machine learning models.\\n\\nThe strong interest in generative AI today from consumers, businesses and industry players alike was sparked by the blockbuster debut of ChatGPT in late 2022, which enabled users to create high-quality text in seconds and -- seemingly overnight -- became the fastest-growing consumer app in history. The underpinning of this breakthrough technology, it should be noted, was not brand-new, dating back to the 1960s when it was introduced in chatbots. It wasn't until 2014, however, with the introduction of generative adversarial networks (GANs) -- a type of machine learning algorithm -- that generative AI could create convincingly authentic images, videos and audio of real people.\",\n",
       " 'number': 5,\n",
       " 'subject': 'generative ai',\n",
       " 'level': 'easy',\n",
       " 'response_json': '{\"1\": {\"mcq\": \"multiple choice question\", \"options\": {\"a\": \"choice here\", \"b\": \"choice here\", \"c\": \"choice here\", \"d\": \"choice here\"}, \"answer\": \"correct answer\"}, \"2\": {\"mcq\": \"multiple choice question\", \"options\": {\"a\": \"choice here\", \"b\": \"choice here\", \"c\": \"choice here\", \"d\": \"choice here\"}, \"answer\": \"correct answer\"}, \"3\": {\"mcq\": \"multiple choice question\", \"options\": {\"a\": \"choice here\", \"b\": \"choice here\", \"c\": \"choice here\", \"d\": \"choice here\"}, \"answer\": \"correct answer\"}, \"4\": {\"mcq\": \"multiple choice question\", \"options\": {\"a\": \"choice here\", \"b\": \"choice here\", \"c\": \"choice here\", \"d\": \"choice here\"}, \"answer\": \"correct answer\"}, \"5\": {\"mcq\": \"multiple choice question\", \"options\": {\"a\": \"choice here\", \"b\": \"choice here\", \"c\": \"choice here\", \"d\": \"choice here\"}, \"answer\": \"correct answer\"}}',\n",
       " 'quiz': '{\"1\": {\"mcq\": \"What does generative artificial intelligence (GenAI) primarily do?\", \"options\": {\"a\": \"Only create images\", \"b\": \"Organize data and create new content\", \"c\": \"Replace all human jobs\", \"d\": \"Only summarize information\"}, \"answer\": \"b\"}, \"2\": {\"mcq\": \"Which popular interface is known for using generative AI?\", \"options\": {\"a\": \"Microsoft Word\", \"b\": \"OpenAI\\'s ChatGPT\", \"c\": \"Adobe Photoshop\", \"d\": \"Zoom\"}, \"answer\": \"b\"}, \"3\": {\"mcq\": \"What breakthrough technology contributed to the rise of generative AI?\", \"options\": {\"a\": \"Natural Language Processing\", \"b\": \"Generative Adversarial Networks (GANs)\", \"c\": \"Cloud Computing\", \"d\": \"Blockchain\"}, \"answer\": \"b\"}, \"4\": {\"mcq\": \"In what year did ChatGPT debut, sparking interest in generative AI?\", \"options\": {\"a\": \"2020\", \"b\": \"2021\", \"c\": \"2022\", \"d\": \"2023\"}, \"answer\": \"c\"}, \"5\": {\"mcq\": \"How are businesses utilizing generative AI?\", \"options\": {\"a\": \"Only for social media posts\", \"b\": \"To draft reports and personalize marketing\", \"c\": \"To eliminate all human interaction\", \"d\": \"For traditional advertising only\"}, \"answer\": \"b\"}}',\n",
       " 'review': \"**Complexity Analysis:**  \\nThe quiz questions are moderately complex, requiring basic understanding of generative AI concepts. However, some questions may not fully challenge students' analytical abilities, as they lean towards factual recall rather than critical thinking.\\n\\n**Updated Quiz Questions:**\\n\\n1. **What is the main function of generative artificial intelligence (GenAI)?**  \\n   - a) Create only images  \\n   - b) Generate new content from existing data  \\n   - c) Replace human jobs entirely  \\n   - d) Summarize information only  \\n   **Answer:** b  \\n\\n2. **Which platform is widely recognized for its use of generative AI?**  \\n   - a) Microsoft Word  \\n   - b) OpenAI's ChatGPT  \\n   - c) Adobe Photoshop  \\n   - d) Zoom  \\n   **Answer:** b  \\n\\n3. **What key technology has significantly advanced generative AI?**  \\n   - a) Natural Language Processing  \\n   - b) Generative Adversarial Networks (GANs)  \\n   - c) Cloud Computing  \\n   - d) Blockchain  \\n   **Answer:** b  \\n\\n4. **In which year did ChatGPT launch, igniting interest in generative AI?**  \\n   - a) 2020  \\n   - b) 2021  \\n   - c) 2022  \\n   - d) 2023  \\n   **Answer:** c  \\n\\n5. **In what ways are businesses applying generative AI?**  \\n   - a) Only for social media posts  \\n   - b) To create reports and enhance marketing strategies  \\n   - c) To remove human interaction entirely  \\n   - d) Solely for traditional advertising  \\n   **Answer:** b  \\n\\n**Changes Made:**  \\n- Rephrased questions for clarity and engagement.  \\n- Maintained factual content while encouraging critical thinking about applications and implications of generative AI.\"}"
      ]
     },
     "execution_count": 63,
     "metadata": {},
     "output_type": "execute_result"
    }
   ],
   "source": [
    "response"
   ]
  },
  {
   "cell_type": "code",
   "execution_count": 64,
   "id": "97c1f626",
   "metadata": {},
   "outputs": [],
   "source": [
    "quiz=response.get(\"quiz\")\n",
    "quiz=json.loads(quiz)"
   ]
  },
  {
   "cell_type": "code",
   "execution_count": 66,
   "id": "ef8baae6",
   "metadata": {},
   "outputs": [],
   "source": [
    "quiz_table_data=[]\n",
    "for key, value in quiz.items():\n",
    "    mcq=value[\"mcq\"]\n",
    "    options=\"|\".join(\n",
    "        [\n",
    "            f\"{option}: {option_value}\"\n",
    "            for option, option_value in value[\"options\"].items()\n",
    "        ]\n",
    "    )\n",
    "    correct = value[\"answer\"]\n",
    "    quiz_table_data.append({\"MCQ\": mcq, \"Choices\": options, \"Correct\": correct})"
   ]
  },
  {
   "cell_type": "code",
   "execution_count": 67,
   "id": "25847305",
   "metadata": {},
   "outputs": [
    {
     "data": {
      "text/plain": [
       "[{'MCQ': 'What does generative artificial intelligence (GenAI) primarily do?',\n",
       "  'Choices': 'a: Only create images|b: Organize data and create new content|c: Replace all human jobs|d: Only summarize information',\n",
       "  'Correct': 'b'},\n",
       " {'MCQ': 'Which popular interface is known for using generative AI?',\n",
       "  'Choices': \"a: Microsoft Word|b: OpenAI's ChatGPT|c: Adobe Photoshop|d: Zoom\",\n",
       "  'Correct': 'b'},\n",
       " {'MCQ': 'What breakthrough technology contributed to the rise of generative AI?',\n",
       "  'Choices': 'a: Natural Language Processing|b: Generative Adversarial Networks (GANs)|c: Cloud Computing|d: Blockchain',\n",
       "  'Correct': 'b'},\n",
       " {'MCQ': 'In what year did ChatGPT debut, sparking interest in generative AI?',\n",
       "  'Choices': 'a: 2020|b: 2021|c: 2022|d: 2023',\n",
       "  'Correct': 'c'},\n",
       " {'MCQ': 'How are businesses utilizing generative AI?',\n",
       "  'Choices': 'a: Only for social media posts|b: To draft reports and personalize marketing|c: To eliminate all human interaction|d: For traditional advertising only',\n",
       "  'Correct': 'b'}]"
      ]
     },
     "execution_count": 67,
     "metadata": {},
     "output_type": "execute_result"
    }
   ],
   "source": [
    "quiz_table_data"
   ]
  },
  {
   "cell_type": "code",
   "execution_count": 68,
   "id": "617f30fc",
   "metadata": {},
   "outputs": [],
   "source": [
    "quiz = pd.DataFrame(quiz_table_data)"
   ]
  },
  {
   "cell_type": "code",
   "execution_count": 69,
   "id": "d834e087",
   "metadata": {},
   "outputs": [],
   "source": [
    "quiz.to_csv('machine_learning.csv', index=False)"
   ]
  },
  {
   "cell_type": "code",
   "execution_count": null,
   "id": "90c2d3ff",
   "metadata": {},
   "outputs": [],
   "source": []
  }
 ],
 "metadata": {
  "kernelspec": {
   "display_name": "myenviron",
   "language": "python",
   "name": "python3"
  },
  "language_info": {
   "codemirror_mode": {
    "name": "ipython",
    "version": 3
   },
   "file_extension": ".py",
   "mimetype": "text/x-python",
   "name": "python",
   "nbconvert_exporter": "python",
   "pygments_lexer": "ipython3",
   "version": "3.12.3"
  }
 },
 "nbformat": 4,
 "nbformat_minor": 5
}
